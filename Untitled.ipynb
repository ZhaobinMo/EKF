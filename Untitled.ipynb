{
 "cells": [
  {
   "cell_type": "code",
   "execution_count": null,
   "metadata": {},
   "outputs": [],
   "source": [
    "import numpy as np\n",
    "from filterpy.kalman import ExtendedKalmanFilter as EKF\n",
    "\n",
    "import seaborn as sns\n",
    "from copy import deepcopy\n",
    "from math import log, exp, sqrt\n",
    "import sys\n",
    "import numpy as np\n",
    "from numpy import dot, zeros, eye\n",
    "import scipy.linalg as linalg\n",
    "from filterpy.stats import logpdf\n",
    "from filterpy.common import pretty_str, reshape_z\n",
    "import os, sys\n",
    "from filterpy.kalman import UnscentedKalmanFilter\n",
    "from filterpy.kalman import ExtendedKalmanFilter as EKF\n",
    "import pickle\n",
    "import matplotlib.pyplot as plt\n",
    "from copy import deepcopy\n",
    "\n",
    "from component.calibrate_three_para import Looper\n",
    "\n",
    "plt.rcParams['font.size'] = 16"
   ]
  },
  {
   "cell_type": "code",
   "execution_count": null,
   "metadata": {},
   "outputs": [],
   "source": [
    "# import component\n",
    "from component.ekf import *\n",
    "import seaborn as sns"
   ]
  },
  {
   "cell_type": "code",
   "execution_count": null,
   "metadata": {},
   "outputs": [],
   "source": [
    "# NGSIM DATA\n",
    "with open('./data/NGSIM/US101_lane1_t30s30.pickle', 'rb') as f:\n",
    "    data = pickle.load(f)\n",
    "\n",
    "# LF solver\n",
    "rho_22 = data['rhoMat']\n",
    "q_22 = data['qMat']\n",
    "\n",
    "Aggregate_5 = False\n",
    "if Aggregate_5:\n",
    "    rho = np.zeros((5, rho.shape[1]))\n",
    "    q = np.zeros((5, rho.shape[1]))\n",
    "    for i in range(5):\n",
    "        for j in range(rho.shape[1]):\n",
    "            sub_rho = rho_22[i:i+5,j]\n",
    "            sub_q = q_22[i:i+5]\n",
    "            rho[i,j] = np.average(sub_rho)\n",
    "            q[i,j] = np.average(sub_q)\n",
    "            dx = (data['s'][1] - data['s'][0])*5\n",
    "else:\n",
    "    rho = rho_22\n",
    "    q = q_22\n",
    "    \n",
    "    dx = data['s'][1] - data['s'][0]\n",
    "\n",
    "dt = data['t'][1] - data['t'][0]\n",
    "dt = dt / 6\n",
    "#para = para_t30_s30\n",
    "\n",
    "N = rho.shape[0]\n",
    "T = rho.shape[1]\n",
    "print('dt=', dt)\n",
    "print('dx=', dx)\n",
    "print('N=', N)\n",
    "print('T=', T)\n",
    "print('dx/dt', dx/dt)\n",
    "\n",
    "# KF\n",
    "config_kf_init = {'std_Q':0.0001,\n",
    "                  'std_R':0.01,\n",
    "                  #'init_rho': np.ones(rho.shape[0])*0.03,\n",
    "                  'init_rho': rho[:,0],\n",
    "                  'init_P': np.cov(rho)}"
   ]
  },
  {
   "cell_type": "code",
   "execution_count": null,
   "metadata": {},
   "outputs": [],
   "source": [
    "LOOPS = {'2':[0, 21],\n",
    "         '4':[0, 5, 11, 21],\n",
    "         '6':[0, 3, 7, 11, 14, 21],\n",
    "         '8':[0, 2, 5, 8, 11, 13, 16, 21],\n",
    "         '10':[0, 2, 4, 6, 8, 11, 13, 15, 17, 21],\n",
    "         '12':[0, 1, 3, 5, 7, 9, 11, 12, 14, 16, 18, 21],\n",
    "         '14':[0, 1, 3, 4, 6, 7, 9, 11, 12, 14, 15, 17, 18, 21],\n",
    "         '16':[0, 1, 2, 4, 5, 6, 8, 9, 11, 12, 13, 15, 16, 17, 19, 21],\n",
    "         '18':[0, 1, 2, 3, 4, 6, 7, 8, 9, 11, 12, 13, 14, 15, 17, 18, 19, 21]}"
   ]
  },
  {
   "cell_type": "code",
   "execution_count": 2,
   "metadata": {},
   "outputs": [
    {
     "name": "stdout",
     "output_type": "stream",
     "text": [
      "dt= 5.0226449275362315\n",
      "dx= 29.62194824347826\n",
      "N= 22\n",
      "T= 89\n",
      "dx/dt 5.897679145320109\n",
      "L= 22\n",
      "T= 89\n"
     ]
    },
    {
     "data": {
      "text/plain": [
       "([<matplotlib.axis.YTick at 0x7ff85c4fa160>,\n",
       "  <matplotlib.axis.YTick at 0x7ff85c4e29e8>,\n",
       "  <matplotlib.axis.YTick at 0x7ff85c4f3a20>,\n",
       "  <matplotlib.axis.YTick at 0x7ff85c4a28d0>,\n",
       "  <matplotlib.axis.YTick at 0x7ff85c4a2e10>,\n",
       "  <matplotlib.axis.YTick at 0x7ff85c4aa3c8>,\n",
       "  <matplotlib.axis.YTick at 0x7ff85c4aa940>,\n",
       "  <matplotlib.axis.YTick at 0x7ff85c4aaeb8>,\n",
       "  <matplotlib.axis.YTick at 0x7ff85c4b1470>,\n",
       "  <matplotlib.axis.YTick at 0x7ff85c4aaf98>,\n",
       "  <matplotlib.axis.YTick at 0x7ff85c4a2278>],\n",
       " <a list of 11 Text yticklabel objects>)"
      ]
     },
     "execution_count": 2,
     "metadata": {},
     "output_type": "execute_result"
    },
    {
     "data": {
      "image/png": "[encoded data removed]",
      "text/plain": [
       "<Figure size 432x288 with 1 Axes>"
      ]
     },
     "metadata": {},
     "output_type": "display_data"
    }
   ],
   "source": [
    "\n",
    "# KF\n",
    "ReadRealPara = True\n",
    "\n",
    "# KF\n",
    "config_kf_init = {'std_Q':1,\n",
    "                  'std_R':1,\n",
    "                  #'init_rho': np.ones(rho.shape[0])*0.03,\n",
    "                  'init_rho': np.array([0.03]*rho.shape[0]),\n",
    "                  'init_P': np.eye(rho.shape[0])}\n",
    "\n",
    "looper = Looper(rho, q)\n",
    "\n",
    "Errors = []\n",
    "\n",
    "#para\n",
    "fitted_paras = []\n",
    "\n",
    "for loops in LOOPS.values():\n",
    "    \n",
    "    #loops = [0,20]\n",
    "    # para\n",
    "    if ReadRealPara:\n",
    "        para = data['para']\n",
    "    else:\n",
    "        #loop\n",
    "        looper.init_pos(loops)\n",
    "        loop_locs, popts, popt_all = looper.calibrate(verbose=False)\n",
    "        para = {'lambda': popt_all[0],\n",
    "               'p': popt_all[1],\n",
    "               'rho_max': popt_all[2],\n",
    "               'alpha': popt_all[3]}\n",
    "        print('lambda = {} \\np = {} \\nrho_max = {} \\nalpha = {}'.format(popt_all[0]\n",
    "                                                                            , popt_all[1]\n",
    "                                                                            , popt_all[2]\n",
    "                                                                            , popt_all[3]))\n",
    "        fitted_paras.append(popt_all)\n",
    "    \n",
    "    #loop\n",
    "    X_pri, X_pos, K, P = implement_kf(N, loops, rho, config_kf_init,\n",
    "                                dx=dx,\n",
    "                                dt=dt,\n",
    "                                para=para)\n",
    "    error_rho = np.linalg.norm(rho[:, 10:]-X_pos[:, 10:],2)/np.linalg.norm(X_pos[:, 10:],2)\n",
    "    Errors.append(error_rho)\n",
    "    #break\n",
    "\n",
    "plt.plot(Errors, '-*r')\n",
    "ax = plt.gca()\n",
    "ax.set_xticks(list(range(9)))\n",
    "ax.set_xticklabels(list(LOOPS.keys()))\n",
    "plt.title('fitted parameter')\n",
    "plt.ylabel('error')\n",
    "plt.xlabel('loops #')\n",
    "plt.yticks([i for i in np.arange(0,1.1,0.1)])\n"
   ]
  }
 ],
 "metadata": {
  "kernelspec": {
   "display_name": "Python 3",
   "language": "python",
   "name": "python3"
  },
  "language_info": {
   "codemirror_mode": {
    "name": "ipython",
    "version": 3
   },
   "file_extension": ".py",
   "mimetype": "text/x-python",
   "name": "python",
   "nbconvert_exporter": "python",
   "pygments_lexer": "ipython3",
   "version": "3.6.6"
  }
 },
 "nbformat": 4,
 "nbformat_minor": 2
}
