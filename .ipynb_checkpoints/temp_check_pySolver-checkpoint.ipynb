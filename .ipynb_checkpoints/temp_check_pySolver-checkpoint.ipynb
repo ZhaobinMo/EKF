{
 "cells": [
  {
   "cell_type": "code",
   "execution_count": 1,
   "metadata": {},
   "outputs": [],
   "source": [
    "import pandas as pd\n",
    "import numpy as np\n"
   ]
  },
  {
   "cell_type": "code",
   "execution_count": 2,
   "metadata": {},
   "outputs": [
    {
     "name": "stdout",
     "output_type": "stream",
     "text": [
      "(240, 960) (240, 960)\n"
     ]
    }
   ],
   "source": [
    "rho = np.loadtxt('./data/lf/rho_bell_mag_075.csv',delimiter=',')\n",
    "rho = rho[:,:-1]\n",
    "\n",
    "u = np.loadtxt('./data/lf/u_bell_mag_075.csv',delimiter=',')\n",
    "print(rho.shape, u.shape)\n",
    "\n",
    "N, T = rho.shape"
   ]
  },
  {
   "cell_type": "code",
   "execution_count": 5,
   "metadata": {},
   "outputs": [],
   "source": [
    "# LF solver\n",
    "U_MAX = 1\n",
    "RHO_MAX = 1\n",
    "\n",
    "dt = 3/T\n",
    "dx = 1/N\n",
    "\n",
    "def u(x):\n",
    "    return U_MAX*(1-x/RHO_MAX)\n",
    "\n",
    "def q(x):\n",
    "    return x*u(x)\n",
    "\n",
    "def lf_at(x):\n",
    "    x_l = np.zeros(x.shape)\n",
    "    x_l[0] = x[-1]\n",
    "    x_l[1:] = x[:-1]\n",
    "    \n",
    "    x_r = np.zeros(x.shape)\n",
    "    x_r[-1] = x[0]\n",
    "    x_r[:-1] = x[1:]\n",
    "    \n",
    "    #print('x:',x)\n",
    "    #print('x_l', x_l)\n",
    "    #print('x_r', x_r)\n",
    "    \n",
    "    "
   ]
  },
  {
   "cell_type": "code",
   "execution_count": 4,
   "metadata": {},
   "outputs": [
    {
     "name": "stdout",
     "output_type": "stream",
     "text": [
      "x: [1 2 3 4 5]\n",
      "x_l [5. 1. 2. 3. 4.]\n",
      "x_r [2. 3. 4. 5. 1.]\n"
     ]
    }
   ],
   "source": [
    "x = np.array([1,2,3,4,5])\n",
    "lf_at(x)"
   ]
  }
 ],
 "metadata": {
  "kernelspec": {
   "display_name": "Python 3",
   "language": "python",
   "name": "python3"
  },
  "language_info": {
   "codemirror_mode": {
    "name": "ipython",
    "version": 3
   },
   "file_extension": ".py",
   "mimetype": "text/x-python",
   "name": "python",
   "nbconvert_exporter": "python",
   "pygments_lexer": "ipython3",
   "version": "3.6.6"
  }
 },
 "nbformat": 4,
 "nbformat_minor": 2
}
